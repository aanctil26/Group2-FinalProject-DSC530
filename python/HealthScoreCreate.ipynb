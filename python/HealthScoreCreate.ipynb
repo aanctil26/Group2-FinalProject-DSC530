{
 "cells": [
  {
   "cell_type": "markdown",
   "metadata": {},
   "source": [
    "# Combining the data and creating the health score"
   ]
  },
  {
   "cell_type": "markdown",
   "metadata": {},
   "source": [
    "### Imports"
   ]
  },
  {
   "cell_type": "code",
   "execution_count": 1,
   "metadata": {},
   "outputs": [],
   "source": [
    "import pandas as pd\n",
    "import urllib, json, requests"
   ]
  },
  {
   "cell_type": "markdown",
   "metadata": {},
   "source": [
    "### Load the health data"
   ]
  },
  {
   "cell_type": "code",
   "execution_count": 79,
   "metadata": {},
   "outputs": [],
   "source": [
    "diabetes_df = pd.read_excel(\"IHME_county_data_Diabetes_NATIONAL.xlsx\", sheet_name=\"Total\", header=1)"
   ]
  },
  {
   "cell_type": "code",
   "execution_count": 80,
   "metadata": {},
   "outputs": [],
   "source": [
    "obesity = pd.read_excel(\"IHME_county_data_LifeExpectancy_Obesity_PhysicalActivity_NATIONAL.xlsx\", sheet_name=\"Obesity\")"
   ]
  },
  {
   "cell_type": "code",
   "execution_count": 81,
   "metadata": {},
   "outputs": [],
   "source": [
    "le = pd.read_excel(\"IHME_county_data_LifeExpectancy_Obesity_PhysicalActivity_NATIONAL.xlsx\", sheet_name=\"Life Expectancy\")\n"
   ]
  },
  {
   "cell_type": "markdown",
   "metadata": {},
   "source": [
    "### View the data"
   ]
  },
  {
   "cell_type": "code",
   "execution_count": 82,
   "metadata": {},
   "outputs": [
    {
     "data": {
      "text/html": [
       "<div>\n",
       "<style scoped>\n",
       "    .dataframe tbody tr th:only-of-type {\n",
       "        vertical-align: middle;\n",
       "    }\n",
       "\n",
       "    .dataframe tbody tr th {\n",
       "        vertical-align: top;\n",
       "    }\n",
       "\n",
       "    .dataframe thead th {\n",
       "        text-align: right;\n",
       "    }\n",
       "</style>\n",
       "<table border=\"1\" class=\"dataframe\">\n",
       "  <thead>\n",
       "    <tr style=\"text-align: right;\">\n",
       "      <th></th>\n",
       "      <th>Location</th>\n",
       "      <th>FIPS</th>\n",
       "      <th>Prevalence, 1999, Both Sexes</th>\n",
       "      <th>Prevalence, 1999, Females</th>\n",
       "      <th>Prevalence, 1999, Males</th>\n",
       "      <th>Prevalence, 2000, Both Sexes</th>\n",
       "      <th>Prevalence, 2000, Females</th>\n",
       "      <th>Prevalence, 2000, Males</th>\n",
       "      <th>Prevalence, 2001, Both Sexes</th>\n",
       "      <th>Prevalence, 2001, Females</th>\n",
       "      <th>...</th>\n",
       "      <th>Prevalence, 2010, Males</th>\n",
       "      <th>Prevalence, 2011, Both Sexes</th>\n",
       "      <th>Prevalence, 2011, Females</th>\n",
       "      <th>Prevalence, 2011, Males</th>\n",
       "      <th>Prevalence, 2012, Both Sexes</th>\n",
       "      <th>Prevalence, 2012, Females</th>\n",
       "      <th>Prevalence, 2012, Males</th>\n",
       "      <th>Percent Change, 1999-2012, Males</th>\n",
       "      <th>Percent Change, 1999-2012, Females</th>\n",
       "      <th>Percent Change, 1999-2012, Both Sexes</th>\n",
       "    </tr>\n",
       "  </thead>\n",
       "  <tbody>\n",
       "    <tr>\n",
       "      <th>0</th>\n",
       "      <td>National</td>\n",
       "      <td>NaN</td>\n",
       "      <td>10.20</td>\n",
       "      <td>9.08</td>\n",
       "      <td>11.39</td>\n",
       "      <td>10.66</td>\n",
       "      <td>9.53</td>\n",
       "      <td>11.87</td>\n",
       "      <td>11.12</td>\n",
       "      <td>9.95</td>\n",
       "      <td>...</td>\n",
       "      <td>15.22</td>\n",
       "      <td>14.02</td>\n",
       "      <td>12.73</td>\n",
       "      <td>15.39</td>\n",
       "      <td>14.28</td>\n",
       "      <td>13.02</td>\n",
       "      <td>15.62</td>\n",
       "      <td>37.10</td>\n",
       "      <td>43.50</td>\n",
       "      <td>40.04</td>\n",
       "    </tr>\n",
       "    <tr>\n",
       "      <th>1</th>\n",
       "      <td>Alabama</td>\n",
       "      <td>1.0</td>\n",
       "      <td>11.71</td>\n",
       "      <td>10.72</td>\n",
       "      <td>12.76</td>\n",
       "      <td>12.21</td>\n",
       "      <td>11.21</td>\n",
       "      <td>13.27</td>\n",
       "      <td>12.77</td>\n",
       "      <td>11.76</td>\n",
       "      <td>...</td>\n",
       "      <td>16.64</td>\n",
       "      <td>15.84</td>\n",
       "      <td>14.97</td>\n",
       "      <td>16.77</td>\n",
       "      <td>16.19</td>\n",
       "      <td>15.26</td>\n",
       "      <td>17.19</td>\n",
       "      <td>34.66</td>\n",
       "      <td>42.28</td>\n",
       "      <td>38.26</td>\n",
       "    </tr>\n",
       "    <tr>\n",
       "      <th>2</th>\n",
       "      <td>Autauga County</td>\n",
       "      <td>1001.0</td>\n",
       "      <td>11.58</td>\n",
       "      <td>10.54</td>\n",
       "      <td>12.69</td>\n",
       "      <td>12.01</td>\n",
       "      <td>10.94</td>\n",
       "      <td>13.14</td>\n",
       "      <td>12.46</td>\n",
       "      <td>11.31</td>\n",
       "      <td>...</td>\n",
       "      <td>16.19</td>\n",
       "      <td>15.25</td>\n",
       "      <td>13.92</td>\n",
       "      <td>16.67</td>\n",
       "      <td>15.45</td>\n",
       "      <td>14.03</td>\n",
       "      <td>16.97</td>\n",
       "      <td>33.70</td>\n",
       "      <td>33.10</td>\n",
       "      <td>33.42</td>\n",
       "    </tr>\n",
       "    <tr>\n",
       "      <th>3</th>\n",
       "      <td>Baldwin County</td>\n",
       "      <td>1003.0</td>\n",
       "      <td>9.71</td>\n",
       "      <td>7.90</td>\n",
       "      <td>11.64</td>\n",
       "      <td>10.11</td>\n",
       "      <td>8.26</td>\n",
       "      <td>12.08</td>\n",
       "      <td>10.57</td>\n",
       "      <td>8.69</td>\n",
       "      <td>...</td>\n",
       "      <td>14.87</td>\n",
       "      <td>13.17</td>\n",
       "      <td>11.44</td>\n",
       "      <td>15.02</td>\n",
       "      <td>13.44</td>\n",
       "      <td>11.80</td>\n",
       "      <td>15.19</td>\n",
       "      <td>30.52</td>\n",
       "      <td>49.25</td>\n",
       "      <td>38.38</td>\n",
       "    </tr>\n",
       "    <tr>\n",
       "      <th>4</th>\n",
       "      <td>Barbour County</td>\n",
       "      <td>1005.0</td>\n",
       "      <td>13.84</td>\n",
       "      <td>13.03</td>\n",
       "      <td>14.69</td>\n",
       "      <td>14.57</td>\n",
       "      <td>13.76</td>\n",
       "      <td>15.44</td>\n",
       "      <td>15.25</td>\n",
       "      <td>14.46</td>\n",
       "      <td>...</td>\n",
       "      <td>19.28</td>\n",
       "      <td>19.08</td>\n",
       "      <td>18.38</td>\n",
       "      <td>19.83</td>\n",
       "      <td>19.36</td>\n",
       "      <td>18.67</td>\n",
       "      <td>20.10</td>\n",
       "      <td>36.79</td>\n",
       "      <td>43.25</td>\n",
       "      <td>39.93</td>\n",
       "    </tr>\n",
       "  </tbody>\n",
       "</table>\n",
       "<p>5 rows × 47 columns</p>\n",
       "</div>"
      ],
      "text/plain": [
       "         Location    FIPS  Prevalence, 1999, Both Sexes  \\\n",
       "0        National     NaN                         10.20   \n",
       "1         Alabama     1.0                         11.71   \n",
       "2  Autauga County  1001.0                         11.58   \n",
       "3  Baldwin County  1003.0                          9.71   \n",
       "4  Barbour County  1005.0                         13.84   \n",
       "\n",
       "   Prevalence, 1999, Females  Prevalence, 1999, Males  \\\n",
       "0                       9.08                    11.39   \n",
       "1                      10.72                    12.76   \n",
       "2                      10.54                    12.69   \n",
       "3                       7.90                    11.64   \n",
       "4                      13.03                    14.69   \n",
       "\n",
       "   Prevalence, 2000, Both Sexes  Prevalence, 2000, Females  \\\n",
       "0                         10.66                       9.53   \n",
       "1                         12.21                      11.21   \n",
       "2                         12.01                      10.94   \n",
       "3                         10.11                       8.26   \n",
       "4                         14.57                      13.76   \n",
       "\n",
       "   Prevalence, 2000, Males  Prevalence, 2001, Both Sexes  \\\n",
       "0                    11.87                         11.12   \n",
       "1                    13.27                         12.77   \n",
       "2                    13.14                         12.46   \n",
       "3                    12.08                         10.57   \n",
       "4                    15.44                         15.25   \n",
       "\n",
       "   Prevalence, 2001, Females  ...  Prevalence, 2010, Males  \\\n",
       "0                       9.95  ...                    15.22   \n",
       "1                      11.76  ...                    16.64   \n",
       "2                      11.31  ...                    16.19   \n",
       "3                       8.69  ...                    14.87   \n",
       "4                      14.46  ...                    19.28   \n",
       "\n",
       "   Prevalence, 2011, Both Sexes  Prevalence, 2011, Females  \\\n",
       "0                         14.02                      12.73   \n",
       "1                         15.84                      14.97   \n",
       "2                         15.25                      13.92   \n",
       "3                         13.17                      11.44   \n",
       "4                         19.08                      18.38   \n",
       "\n",
       "   Prevalence, 2011, Males  Prevalence, 2012, Both Sexes  \\\n",
       "0                    15.39                         14.28   \n",
       "1                    16.77                         16.19   \n",
       "2                    16.67                         15.45   \n",
       "3                    15.02                         13.44   \n",
       "4                    19.83                         19.36   \n",
       "\n",
       "   Prevalence, 2012, Females  Prevalence, 2012, Males  \\\n",
       "0                      13.02                    15.62   \n",
       "1                      15.26                    17.19   \n",
       "2                      14.03                    16.97   \n",
       "3                      11.80                    15.19   \n",
       "4                      18.67                    20.10   \n",
       "\n",
       "   Percent Change, 1999-2012, Males  Percent Change, 1999-2012, Females  \\\n",
       "0                             37.10                               43.50   \n",
       "1                             34.66                               42.28   \n",
       "2                             33.70                               33.10   \n",
       "3                             30.52                               49.25   \n",
       "4                             36.79                               43.25   \n",
       "\n",
       "   Percent Change, 1999-2012, Both Sexes  \n",
       "0                                  40.04  \n",
       "1                                  38.26  \n",
       "2                                  33.42  \n",
       "3                                  38.38  \n",
       "4                                  39.93  \n",
       "\n",
       "[5 rows x 47 columns]"
      ]
     },
     "execution_count": 82,
     "metadata": {},
     "output_type": "execute_result"
    }
   ],
   "source": [
    "diabetes_df.head()"
   ]
  },
  {
   "cell_type": "code",
   "execution_count": 83,
   "metadata": {},
   "outputs": [
    {
     "data": {
      "text/html": [
       "<div>\n",
       "<style scoped>\n",
       "    .dataframe tbody tr th:only-of-type {\n",
       "        vertical-align: middle;\n",
       "    }\n",
       "\n",
       "    .dataframe tbody tr th {\n",
       "        vertical-align: top;\n",
       "    }\n",
       "\n",
       "    .dataframe thead th {\n",
       "        text-align: right;\n",
       "    }\n",
       "</style>\n",
       "<table border=\"1\" class=\"dataframe\">\n",
       "  <thead>\n",
       "    <tr style=\"text-align: right;\">\n",
       "      <th></th>\n",
       "      <th>State</th>\n",
       "      <th>County</th>\n",
       "      <th>Male obesity prevalence, 2001 (%)</th>\n",
       "      <th>Female obesity prevalence, 2001 (%)</th>\n",
       "      <th>Male obesity prevalence, 2009 (%)</th>\n",
       "      <th>Female obesity  prevalence, 2009 (%)</th>\n",
       "      <th>Male obesity  prevalence, 2011* (%)</th>\n",
       "      <th>Female obesity prevalence, 2011* (%)</th>\n",
       "      <th>Difference in male obesity prevalence, 2001-2009 (percentage points)</th>\n",
       "      <th>Difference in female obesity prevalence, 2001-2009 (percentage points)</th>\n",
       "      <th>Unnamed: 10</th>\n",
       "      <th>*Methodological changes in the 2011 BRFSS may affect comparability between the 2011 estimates and estimates from earlier years</th>\n",
       "    </tr>\n",
       "  </thead>\n",
       "  <tbody>\n",
       "    <tr>\n",
       "      <th>0</th>\n",
       "      <td>United States</td>\n",
       "      <td>NaN</td>\n",
       "      <td>26.1</td>\n",
       "      <td>28.7</td>\n",
       "      <td>32.8</td>\n",
       "      <td>35.1</td>\n",
       "      <td>33.8</td>\n",
       "      <td>36.1</td>\n",
       "      <td>6.7</td>\n",
       "      <td>6.4</td>\n",
       "      <td>NaN</td>\n",
       "      <td>NaN</td>\n",
       "    </tr>\n",
       "    <tr>\n",
       "      <th>1</th>\n",
       "      <td>Alabama</td>\n",
       "      <td>NaN</td>\n",
       "      <td>29.7</td>\n",
       "      <td>34.1</td>\n",
       "      <td>36.1</td>\n",
       "      <td>41.2</td>\n",
       "      <td>37.3</td>\n",
       "      <td>42.2</td>\n",
       "      <td>6.4</td>\n",
       "      <td>7.1</td>\n",
       "      <td>NaN</td>\n",
       "      <td>NaN</td>\n",
       "    </tr>\n",
       "    <tr>\n",
       "      <th>2</th>\n",
       "      <td>Alabama</td>\n",
       "      <td>Autauga</td>\n",
       "      <td>30.7</td>\n",
       "      <td>32.3</td>\n",
       "      <td>35.9</td>\n",
       "      <td>37.4</td>\n",
       "      <td>37.1</td>\n",
       "      <td>38.8</td>\n",
       "      <td>5.3</td>\n",
       "      <td>5.2</td>\n",
       "      <td>NaN</td>\n",
       "      <td>NaN</td>\n",
       "    </tr>\n",
       "    <tr>\n",
       "      <th>3</th>\n",
       "      <td>Alabama</td>\n",
       "      <td>Baldwin</td>\n",
       "      <td>27.8</td>\n",
       "      <td>28.3</td>\n",
       "      <td>32.4</td>\n",
       "      <td>33.0</td>\n",
       "      <td>33.5</td>\n",
       "      <td>33.9</td>\n",
       "      <td>4.5</td>\n",
       "      <td>4.6</td>\n",
       "      <td>NaN</td>\n",
       "      <td>NaN</td>\n",
       "    </tr>\n",
       "    <tr>\n",
       "      <th>4</th>\n",
       "      <td>Alabama</td>\n",
       "      <td>Barbour</td>\n",
       "      <td>32.3</td>\n",
       "      <td>42.8</td>\n",
       "      <td>40.3</td>\n",
       "      <td>51.3</td>\n",
       "      <td>41.5</td>\n",
       "      <td>51.6</td>\n",
       "      <td>8.0</td>\n",
       "      <td>8.5</td>\n",
       "      <td>NaN</td>\n",
       "      <td>NaN</td>\n",
       "    </tr>\n",
       "  </tbody>\n",
       "</table>\n",
       "</div>"
      ],
      "text/plain": [
       "           State   County  Male obesity prevalence, 2001 (%)  \\\n",
       "0  United States      NaN                               26.1   \n",
       "1        Alabama      NaN                               29.7   \n",
       "2        Alabama  Autauga                               30.7   \n",
       "3        Alabama  Baldwin                               27.8   \n",
       "4        Alabama  Barbour                               32.3   \n",
       "\n",
       "   Female obesity prevalence, 2001 (%)  Male obesity prevalence, 2009 (%)  \\\n",
       "0                                 28.7                               32.8   \n",
       "1                                 34.1                               36.1   \n",
       "2                                 32.3                               35.9   \n",
       "3                                 28.3                               32.4   \n",
       "4                                 42.8                               40.3   \n",
       "\n",
       "   Female obesity  prevalence, 2009 (%)  Male obesity  prevalence, 2011* (%)  \\\n",
       "0                                  35.1                                 33.8   \n",
       "1                                  41.2                                 37.3   \n",
       "2                                  37.4                                 37.1   \n",
       "3                                  33.0                                 33.5   \n",
       "4                                  51.3                                 41.5   \n",
       "\n",
       "   Female obesity prevalence, 2011* (%)  \\\n",
       "0                                  36.1   \n",
       "1                                  42.2   \n",
       "2                                  38.8   \n",
       "3                                  33.9   \n",
       "4                                  51.6   \n",
       "\n",
       "   Difference in male obesity prevalence, 2001-2009 (percentage points)  \\\n",
       "0                                                6.7                      \n",
       "1                                                6.4                      \n",
       "2                                                5.3                      \n",
       "3                                                4.5                      \n",
       "4                                                8.0                      \n",
       "\n",
       "   Difference in female obesity prevalence, 2001-2009 (percentage points)  \\\n",
       "0                                                6.4                        \n",
       "1                                                7.1                        \n",
       "2                                                5.2                        \n",
       "3                                                4.6                        \n",
       "4                                                8.5                        \n",
       "\n",
       "   Unnamed: 10  \\\n",
       "0          NaN   \n",
       "1          NaN   \n",
       "2          NaN   \n",
       "3          NaN   \n",
       "4          NaN   \n",
       "\n",
       "   *Methodological changes in the 2011 BRFSS may affect comparability between the 2011 estimates and estimates from earlier years  \n",
       "0                                                NaN                                                                               \n",
       "1                                                NaN                                                                               \n",
       "2                                                NaN                                                                               \n",
       "3                                                NaN                                                                               \n",
       "4                                                NaN                                                                               "
      ]
     },
     "execution_count": 83,
     "metadata": {},
     "output_type": "execute_result"
    }
   ],
   "source": [
    "obesity.head()"
   ]
  },
  {
   "cell_type": "code",
   "execution_count": 84,
   "metadata": {},
   "outputs": [
    {
     "data": {
      "text/html": [
       "<div>\n",
       "<style scoped>\n",
       "    .dataframe tbody tr th:only-of-type {\n",
       "        vertical-align: middle;\n",
       "    }\n",
       "\n",
       "    .dataframe tbody tr th {\n",
       "        vertical-align: top;\n",
       "    }\n",
       "\n",
       "    .dataframe thead th {\n",
       "        text-align: right;\n",
       "    }\n",
       "</style>\n",
       "<table border=\"1\" class=\"dataframe\">\n",
       "  <thead>\n",
       "    <tr style=\"text-align: right;\">\n",
       "      <th></th>\n",
       "      <th>State</th>\n",
       "      <th>County</th>\n",
       "      <th>Male life expectancy, 1985 (years)</th>\n",
       "      <th>Female life expectancy, 1985 (years)</th>\n",
       "      <th>Male life expectancy, 1990 (years)</th>\n",
       "      <th>Female life expectancy, 1990 (years)</th>\n",
       "      <th>Male life expectancy, 1995 (years)</th>\n",
       "      <th>Female life expectancy, 1995 (years)</th>\n",
       "      <th>Male life expectancy, 2000 (years)</th>\n",
       "      <th>Female life expectancy, 2000 (years)</th>\n",
       "      <th>Male life expectancy, 2005 (years)</th>\n",
       "      <th>Female life expectancy, 2005 (years)</th>\n",
       "      <th>Male life expectancy, 2010 (years)</th>\n",
       "      <th>Female life expectancy, 2010 (years)</th>\n",
       "      <th>Difference in male life expectancy, 1985-2010 (years)</th>\n",
       "      <th>Difference in female life expectancy, 1985-2010 (years)</th>\n",
       "    </tr>\n",
       "  </thead>\n",
       "  <tbody>\n",
       "    <tr>\n",
       "      <th>0</th>\n",
       "      <td>United States</td>\n",
       "      <td>NaN</td>\n",
       "      <td>70.8</td>\n",
       "      <td>77.8</td>\n",
       "      <td>71.5</td>\n",
       "      <td>78.3</td>\n",
       "      <td>72.5</td>\n",
       "      <td>78.8</td>\n",
       "      <td>74.1</td>\n",
       "      <td>79.2</td>\n",
       "      <td>74.9</td>\n",
       "      <td>79.9</td>\n",
       "      <td>76.1</td>\n",
       "      <td>80.8</td>\n",
       "      <td>5.2</td>\n",
       "      <td>3.0</td>\n",
       "    </tr>\n",
       "    <tr>\n",
       "      <th>1</th>\n",
       "      <td>Alabama</td>\n",
       "      <td>NaN</td>\n",
       "      <td>69.1</td>\n",
       "      <td>76.9</td>\n",
       "      <td>69.4</td>\n",
       "      <td>77.1</td>\n",
       "      <td>69.9</td>\n",
       "      <td>77.2</td>\n",
       "      <td>71.0</td>\n",
       "      <td>77.2</td>\n",
       "      <td>71.5</td>\n",
       "      <td>77.3</td>\n",
       "      <td>72.4</td>\n",
       "      <td>77.8</td>\n",
       "      <td>3.3</td>\n",
       "      <td>0.9</td>\n",
       "    </tr>\n",
       "    <tr>\n",
       "      <th>2</th>\n",
       "      <td>Alabama</td>\n",
       "      <td>Autauga</td>\n",
       "      <td>68.1</td>\n",
       "      <td>77.0</td>\n",
       "      <td>68.5</td>\n",
       "      <td>77.0</td>\n",
       "      <td>69.3</td>\n",
       "      <td>77.3</td>\n",
       "      <td>71.7</td>\n",
       "      <td>77.6</td>\n",
       "      <td>72.5</td>\n",
       "      <td>77.4</td>\n",
       "      <td>73.3</td>\n",
       "      <td>78.8</td>\n",
       "      <td>5.2</td>\n",
       "      <td>1.8</td>\n",
       "    </tr>\n",
       "    <tr>\n",
       "      <th>3</th>\n",
       "      <td>Alabama</td>\n",
       "      <td>Baldwin</td>\n",
       "      <td>71.1</td>\n",
       "      <td>78.8</td>\n",
       "      <td>71.9</td>\n",
       "      <td>79.2</td>\n",
       "      <td>72.4</td>\n",
       "      <td>79.3</td>\n",
       "      <td>73.9</td>\n",
       "      <td>79.2</td>\n",
       "      <td>73.8</td>\n",
       "      <td>79.7</td>\n",
       "      <td>75.0</td>\n",
       "      <td>80.3</td>\n",
       "      <td>3.8</td>\n",
       "      <td>1.5</td>\n",
       "    </tr>\n",
       "    <tr>\n",
       "      <th>4</th>\n",
       "      <td>Alabama</td>\n",
       "      <td>Barbour</td>\n",
       "      <td>66.8</td>\n",
       "      <td>76.0</td>\n",
       "      <td>66.7</td>\n",
       "      <td>76.7</td>\n",
       "      <td>68.4</td>\n",
       "      <td>76.9</td>\n",
       "      <td>70.0</td>\n",
       "      <td>76.2</td>\n",
       "      <td>70.5</td>\n",
       "      <td>77.0</td>\n",
       "      <td>72.2</td>\n",
       "      <td>77.2</td>\n",
       "      <td>5.3</td>\n",
       "      <td>1.1</td>\n",
       "    </tr>\n",
       "  </tbody>\n",
       "</table>\n",
       "</div>"
      ],
      "text/plain": [
       "           State   County  Male life expectancy, 1985 (years)  \\\n",
       "0  United States      NaN                                70.8   \n",
       "1        Alabama      NaN                                69.1   \n",
       "2        Alabama  Autauga                                68.1   \n",
       "3        Alabama  Baldwin                                71.1   \n",
       "4        Alabama  Barbour                                66.8   \n",
       "\n",
       "   Female life expectancy, 1985 (years)  Male life expectancy, 1990 (years)  \\\n",
       "0                                  77.8                                71.5   \n",
       "1                                  76.9                                69.4   \n",
       "2                                  77.0                                68.5   \n",
       "3                                  78.8                                71.9   \n",
       "4                                  76.0                                66.7   \n",
       "\n",
       "   Female life expectancy, 1990 (years)  Male life expectancy, 1995 (years)  \\\n",
       "0                                  78.3                                72.5   \n",
       "1                                  77.1                                69.9   \n",
       "2                                  77.0                                69.3   \n",
       "3                                  79.2                                72.4   \n",
       "4                                  76.7                                68.4   \n",
       "\n",
       "   Female life expectancy, 1995 (years)  Male life expectancy, 2000 (years)  \\\n",
       "0                                  78.8                                74.1   \n",
       "1                                  77.2                                71.0   \n",
       "2                                  77.3                                71.7   \n",
       "3                                  79.3                                73.9   \n",
       "4                                  76.9                                70.0   \n",
       "\n",
       "   Female life expectancy, 2000 (years)  Male life expectancy, 2005 (years)  \\\n",
       "0                                  79.2                                74.9   \n",
       "1                                  77.2                                71.5   \n",
       "2                                  77.6                                72.5   \n",
       "3                                  79.2                                73.8   \n",
       "4                                  76.2                                70.5   \n",
       "\n",
       "   Female life expectancy, 2005 (years)  Male life expectancy, 2010 (years)  \\\n",
       "0                                  79.9                                76.1   \n",
       "1                                  77.3                                72.4   \n",
       "2                                  77.4                                73.3   \n",
       "3                                  79.7                                75.0   \n",
       "4                                  77.0                                72.2   \n",
       "\n",
       "   Female life expectancy, 2010 (years)  \\\n",
       "0                                  80.8   \n",
       "1                                  77.8   \n",
       "2                                  78.8   \n",
       "3                                  80.3   \n",
       "4                                  77.2   \n",
       "\n",
       "   Difference in male life expectancy, 1985-2010 (years)  \\\n",
       "0                                                5.2       \n",
       "1                                                3.3       \n",
       "2                                                5.2       \n",
       "3                                                3.8       \n",
       "4                                                5.3       \n",
       "\n",
       "   Difference in female life expectancy, 1985-2010 (years)  \n",
       "0                                                3.0        \n",
       "1                                                0.9        \n",
       "2                                                1.8        \n",
       "3                                                1.5        \n",
       "4                                                1.1        "
      ]
     },
     "execution_count": 84,
     "metadata": {},
     "output_type": "execute_result"
    }
   ],
   "source": [
    "le.head()"
   ]
  },
  {
   "cell_type": "markdown",
   "metadata": {},
   "source": [
    "### Clean dfs to get county and state formatted"
   ]
  },
  {
   "cell_type": "code",
   "execution_count": 85,
   "metadata": {},
   "outputs": [],
   "source": [
    "diab = diabetes_df[['Location', 'FIPS', 'Prevalence, 2012, Both Sexes', 'Prevalence, 2012, Females', 'Prevalence, 2012, Males']]\n"
   ]
  },
  {
   "cell_type": "code",
   "execution_count": 86,
   "metadata": {},
   "outputs": [],
   "source": [
    "diab = diab.drop([0, 328, 329])\n",
    "diab=diab.reset_index(drop=True)"
   ]
  },
  {
   "cell_type": "code",
   "execution_count": 87,
   "metadata": {},
   "outputs": [],
   "source": [
    "noState = ['National', 'County',  'Borough', 'Area', 'Municipality', 'Parish', \"City\"]"
   ]
  },
  {
   "cell_type": "code",
   "execution_count": 88,
   "metadata": {},
   "outputs": [
    {
     "name": "stderr",
     "output_type": "stream",
     "text": [
      "<ipython-input-88-09b249a43e96>:8: SettingWithCopyWarning: \n",
      "A value is trying to be set on a copy of a slice from a DataFrame\n",
      "\n",
      "See the caveats in the documentation: https://pandas.pydata.org/pandas-docs/stable/user_guide/indexing.html#returning-a-view-versus-a-copy\n",
      "  diab['State'][i] = diab.Location[i]\n",
      "<ipython-input-88-09b249a43e96>:5: SettingWithCopyWarning: \n",
      "A value is trying to be set on a copy of a slice from a DataFrame\n",
      "\n",
      "See the caveats in the documentation: https://pandas.pydata.org/pandas-docs/stable/user_guide/indexing.html#returning-a-view-versus-a-copy\n",
      "  diab['State'][i] = diab.State[i-1]\n"
     ]
    }
   ],
   "source": [
    "# Mark the state of each county based on previous state names in the data frame\n",
    "diab['State'] = ''\n",
    "for i in range(len(diab)):\n",
    "    if diab.Location[i].split(\" \")[-1] in noState:\n",
    "        # Mark state as previous\n",
    "        diab['State'][i] = diab.State[i-1]\n",
    "    else:\n",
    "        # Mark state as location\n",
    "        diab['State'][i] = diab.Location[i]"
   ]
  },
  {
   "cell_type": "code",
   "execution_count": 89,
   "metadata": {},
   "outputs": [],
   "source": [
    "diab = diab[diab.FIPS>60].reset_index(drop=True)"
   ]
  },
  {
   "cell_type": "code",
   "execution_count": 90,
   "metadata": {},
   "outputs": [],
   "source": [
    "diab['County'] = diab.Location.str.split(\" \").str[:-1]"
   ]
  },
  {
   "cell_type": "code",
   "execution_count": 91,
   "metadata": {},
   "outputs": [
    {
     "name": "stderr",
     "output_type": "stream",
     "text": [
      "<ipython-input-91-ef38d20b7933>:2: SettingWithCopyWarning: \n",
      "A value is trying to be set on a copy of a slice from a DataFrame\n",
      "\n",
      "See the caveats in the documentation: https://pandas.pydata.org/pandas-docs/stable/user_guide/indexing.html#returning-a-view-versus-a-copy\n",
      "  diab[\"County\"][i] = \" \".join(diab.County[i])\n"
     ]
    }
   ],
   "source": [
    "for i in range(len(diab)):\n",
    "    diab[\"County\"][i] = \" \".join(diab.County[i])"
   ]
  },
  {
   "cell_type": "code",
   "execution_count": 92,
   "metadata": {},
   "outputs": [],
   "source": [
    "diab[\"PrevalenceDiab\"] = diab[\"Prevalence, 2012, Both Sexes\"]"
   ]
  },
  {
   "cell_type": "code",
   "execution_count": 93,
   "metadata": {},
   "outputs": [],
   "source": [
    "diab = diab[[\"State\", \"County\", \"FIPS\", \"PrevalenceDiab\"]]"
   ]
  },
  {
   "cell_type": "code",
   "execution_count": 94,
   "metadata": {},
   "outputs": [],
   "source": [
    "diab[\"CoSt\"] = diab[\"County\"] + \", \" + diab[\"State\"]"
   ]
  },
  {
   "cell_type": "code",
   "execution_count": 95,
   "metadata": {},
   "outputs": [],
   "source": [
    "obesity[\"PrevalenceObes\"] = (obesity[\"Male obesity  prevalence, 2011* (%)\"] + obesity[\"Female obesity prevalence, 2011* (%)\"])/2"
   ]
  },
  {
   "cell_type": "code",
   "execution_count": 96,
   "metadata": {},
   "outputs": [],
   "source": [
    "obesity = obesity[~obesity.County.isna()].reset_index(drop=True)\n",
    "obesity = obesity[[\"State\", \"County\", \"PrevalenceObes\"]]"
   ]
  },
  {
   "cell_type": "code",
   "execution_count": 97,
   "metadata": {},
   "outputs": [],
   "source": [
    "obesity['CoSt'] = obesity[\"County\"] + \", \" + obesity[\"State\"]"
   ]
  },
  {
   "cell_type": "code",
   "execution_count": 98,
   "metadata": {},
   "outputs": [],
   "source": [
    "le[\"LE\"] = (le[\"Male life expectancy, 2010 (years)\"] + le[\"Female life expectancy, 2010 (years)\"])/2\n"
   ]
  },
  {
   "cell_type": "code",
   "execution_count": 99,
   "metadata": {},
   "outputs": [],
   "source": [
    "le = le[~le.County.isna()].reset_index(drop=True)\n",
    "le = le[[\"State\", \"County\", \"LE\"]]"
   ]
  },
  {
   "cell_type": "code",
   "execution_count": 111,
   "metadata": {},
   "outputs": [],
   "source": [
    "le['CoSt'] = le[\"County\"] + \", \" + le[\"State\"]"
   ]
  },
  {
   "cell_type": "markdown",
   "metadata": {},
   "source": [
    "### Combine into one, then join with FF Chains"
   ]
  },
  {
   "cell_type": "code",
   "execution_count": 112,
   "metadata": {},
   "outputs": [],
   "source": [
    "diab = diab[['CoSt', 'FIPS', 'PrevalenceDiab']]\n",
    "obesity = obesity[[\"CoSt\", \"PrevalenceObes\"]]\n",
    "le = le[[\"CoSt\", \"LE\"]]"
   ]
  },
  {
   "cell_type": "code",
   "execution_count": 116,
   "metadata": {},
   "outputs": [],
   "source": [
    "combined = diab.merge(obesity, left_on=\"CoSt\", right_on=\"CoSt\").merge(le, left_on=\"CoSt\", right_on=\"CoSt\")"
   ]
  },
  {
   "cell_type": "code",
   "execution_count": 120,
   "metadata": {},
   "outputs": [],
   "source": [
    "ff = pd.read_csv(\"Fast_Food_Restaurants_US.csv\").drop(\"Unnamed: 0\", axis=1)"
   ]
  },
  {
   "cell_type": "code",
   "execution_count": 125,
   "metadata": {},
   "outputs": [
    {
     "name": "stderr",
     "output_type": "stream",
     "text": [
      "<ipython-input-125-7641a987c2bc>:7: SettingWithCopyWarning: \n",
      "A value is trying to be set on a copy of a slice from a DataFrame\n",
      "\n",
      "See the caveats in the documentation: https://pandas.pydata.org/pandas-docs/stable/user_guide/indexing.html#returning-a-view-versus-a-copy\n",
      "  ff[\"FIPS\"][i] = json.loads(json.dumps(data, indent=4, sort_keys=True))[\"results\"][0]['county_fips']\n"
     ]
    }
   ],
   "source": [
    "# Get the FIPS based on latitude and longitude using an API\n",
    "ff[\"FIPS\"] = 0\n",
    "for i in range(len(ff)):\n",
    "    lat = ff.latitude[i]\n",
    "    long = ff.longitude[i]\n",
    "    with urllib.request.urlopen(\"https://geo.fcc.gov/api/census/area?lat=\" + str(lat) + \"&lon=\" + str(long) + \"&format=json\") as url:\n",
    "        data = json.loads(url.read().decode())\n",
    "    ff[\"FIPS\"][i] = json.loads(json.dumps(data, indent=4, sort_keys=True))[\"results\"][0]['county_fips']"
   ]
  },
  {
   "cell_type": "code",
   "execution_count": 224,
   "metadata": {},
   "outputs": [],
   "source": [
    "# MERGE ON FIPS (JOIN ON FF SIDE)\n",
    "allDf = ff.merge(combined, left_on=\"FIPS\", right_on=\"FIPS\")"
   ]
  },
  {
   "cell_type": "markdown",
   "metadata": {},
   "source": [
    "### Now calculate health score"
   ]
  },
  {
   "cell_type": "code",
   "execution_count": 225,
   "metadata": {},
   "outputs": [
    {
     "data": {
      "text/plain": [
       "'\\nRelative prevalence of diabetes + relative prevalence of obesity + reversed relative percentage of LE (x2)\\nThen map to 0-100\\n'"
      ]
     },
     "execution_count": 225,
     "metadata": {},
     "output_type": "execute_result"
    }
   ],
   "source": [
    "\"\"\"\n",
    "Relative prevalence of diabetes + relative prevalence of obesity + reversed relative percentage of LE (x2)\n",
    "Then map to 0-100\n",
    "\"\"\""
   ]
  },
  {
   "cell_type": "code",
   "execution_count": 233,
   "metadata": {},
   "outputs": [],
   "source": [
    "allDf[\"RelativePrevalenceDiab\"] = (allDf[\"PrevalenceDiab\"] - allDf[\"PrevalenceDiab\"].min())/(allDf[\"PrevalenceDiab\"].max() - allDf[\"PrevalenceDiab\"].min())\n",
    "allDf[\"RelativePrevalenceObes\"] = (allDf[\"PrevalenceObes\"] - allDf[\"PrevalenceObes\"].min())/(allDf[\"PrevalenceObes\"].max() - allDf[\"PrevalenceObes\"].min())\n",
    "allDf[\"RelativePrevalenceLE\"] = (allDf[\"LE\"] - allDf[\"LE\"].min())/(allDf[\"LE\"].max() - allDf[\"LE\"].min())\n"
   ]
  },
  {
   "cell_type": "code",
   "execution_count": 234,
   "metadata": {},
   "outputs": [],
   "source": [
    "allDf[\"RelativePrevalenceLE\"] = -1*allDf.RelativePrevalenceLE+1"
   ]
  },
  {
   "cell_type": "code",
   "execution_count": 235,
   "metadata": {},
   "outputs": [],
   "source": [
    "allDf[\"CombinedPct\"] = allDf[\"RelativePrevalenceDiab\"] + allDf[\"RelativePrevalenceObes\"] + allDf[\"RelativePrevalenceLE\"] + allDf[\"RelativePrevalenceLE\"]\n"
   ]
  },
  {
   "cell_type": "code",
   "execution_count": 236,
   "metadata": {},
   "outputs": [],
   "source": [
    "allDf[\"HealthScore\"] = (allDf[\"CombinedPct\"] - allDf[\"CombinedPct\"].min())/(allDf[\"CombinedPct\"].max() - allDf[\"CombinedPct\"].min())\n",
    "allDf[\"HealthScore\"] = -1*allDf.HealthScore+1"
   ]
  },
  {
   "cell_type": "markdown",
   "metadata": {},
   "source": [
    "### Now get health score by area and ff chain"
   ]
  },
  {
   "cell_type": "code",
   "execution_count": 237,
   "metadata": {},
   "outputs": [],
   "source": [
    "avgByCounty = allDf.groupby(\"CoSt\").agg({\"HealthScore\": \"mean\"})"
   ]
  },
  {
   "cell_type": "code",
   "execution_count": 238,
   "metadata": {},
   "outputs": [],
   "source": [
    "avgByCounty = avgByCounty.reset_index()"
   ]
  },
  {
   "cell_type": "code",
   "execution_count": 239,
   "metadata": {},
   "outputs": [],
   "source": [
    "avgByCounty.columns = [\"CoSt\", \"AvgByCounty\"]"
   ]
  },
  {
   "cell_type": "code",
   "execution_count": 240,
   "metadata": {},
   "outputs": [],
   "source": [
    "allDf = allDf.merge(avgByCounty, on=\"CoSt\")"
   ]
  },
  {
   "cell_type": "code",
   "execution_count": 241,
   "metadata": {},
   "outputs": [],
   "source": [
    "avgByState = allDf.groupby(\"province\").agg({\"HealthScore\":\"mean\"})"
   ]
  },
  {
   "cell_type": "code",
   "execution_count": 242,
   "metadata": {},
   "outputs": [],
   "source": [
    "avgByState = avgByState.reset_index()"
   ]
  },
  {
   "cell_type": "code",
   "execution_count": 249,
   "metadata": {},
   "outputs": [],
   "source": [
    "avgByState.columns = [\"province\", \"AvgByState\"]"
   ]
  },
  {
   "cell_type": "code",
   "execution_count": 250,
   "metadata": {},
   "outputs": [],
   "source": [
    "allDf = allDf.merge(avgByState, on=\"province\")"
   ]
  },
  {
   "cell_type": "code",
   "execution_count": 251,
   "metadata": {},
   "outputs": [],
   "source": [
    "allDf['nameLower'] = allDf.name.str.lower().str.replace('[^a-zA-Z0-9]', '')"
   ]
  },
  {
   "cell_type": "code",
   "execution_count": 252,
   "metadata": {},
   "outputs": [],
   "source": [
    "avgByChain = allDf.groupby(\"nameLower\").agg({\"HealthScore\":\"mean\"})"
   ]
  },
  {
   "cell_type": "code",
   "execution_count": 253,
   "metadata": {},
   "outputs": [],
   "source": [
    "avgByChain = avgByChain.reset_index()"
   ]
  },
  {
   "cell_type": "code",
   "execution_count": 254,
   "metadata": {},
   "outputs": [],
   "source": [
    "avgByChain.columns = [\"nameLower\", \"AvgByChain\"]"
   ]
  },
  {
   "cell_type": "code",
   "execution_count": 255,
   "metadata": {},
   "outputs": [],
   "source": [
    "allDf = allDf.merge(avgByChain, on=\"nameLower\")"
   ]
  },
  {
   "cell_type": "code",
   "execution_count": 257,
   "metadata": {},
   "outputs": [],
   "source": [
    "allDf[\"OverallHealthScore\"] = (allDf[\"AvgByCounty\"] + allDf[\"AvgByState\"] + allDf[\"AvgByChain\"] + allDf[\"AvgByChain\"])/4"
   ]
  },
  {
   "cell_type": "markdown",
   "metadata": {},
   "source": [
    "### Save the health score data by fast food location to a csv"
   ]
  },
  {
   "cell_type": "code",
   "execution_count": 272,
   "metadata": {},
   "outputs": [],
   "source": [
    "allDf.to_csv(\"HealthScores.csv\")"
   ]
  }
 ],
 "metadata": {
  "kernelspec": {
   "display_name": "Python 3",
   "language": "python",
   "name": "python3"
  },
  "language_info": {
   "codemirror_mode": {
    "name": "ipython",
    "version": 3
   },
   "file_extension": ".py",
   "mimetype": "text/x-python",
   "name": "python",
   "nbconvert_exporter": "python",
   "pygments_lexer": "ipython3",
   "version": "3.8.5"
  }
 },
 "nbformat": 4,
 "nbformat_minor": 4
}
