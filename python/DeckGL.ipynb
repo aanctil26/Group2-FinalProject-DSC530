{
 "cells": [
  {
   "cell_type": "markdown",
   "metadata": {},
   "source": [
    "# Creating Deck.GL visualizations using pydeck"
   ]
  },
  {
   "cell_type": "markdown",
   "metadata": {},
   "source": [
    "### Installations"
   ]
  },
  {
   "cell_type": "code",
   "execution_count": 1,
   "metadata": {},
   "outputs": [
    {
     "name": "stdout",
     "output_type": "stream",
     "text": [
      "Collecting pydeck\n",
      "  Downloading pydeck-0.7.1-py2.py3-none-any.whl (4.3 MB)\n",
      "\u001b[K     |████████████████████████████████| 4.3 MB 3.3 MB/s eta 0:00:01\n",
      "\u001b[?25hRequirement already satisfied: traitlets>=4.3.2 in /opt/anaconda3/lib/python3.8/site-packages (from pydeck) (5.0.5)\n",
      "Requirement already satisfied: numpy>=1.16.4 in /opt/anaconda3/lib/python3.8/site-packages (from pydeck) (1.19.2)\n",
      "Requirement already satisfied: jinja2>=2.10.1 in /opt/anaconda3/lib/python3.8/site-packages (from pydeck) (2.11.2)\n",
      "Requirement already satisfied: ipykernel>=5.1.2; python_version >= \"3.4\" in /opt/anaconda3/lib/python3.8/site-packages (from pydeck) (5.3.4)\n",
      "Requirement already satisfied: ipywidgets>=7.0.0 in /opt/anaconda3/lib/python3.8/site-packages (from pydeck) (7.5.1)\n",
      "Requirement already satisfied: ipython-genutils in /opt/anaconda3/lib/python3.8/site-packages (from traitlets>=4.3.2->pydeck) (0.2.0)\n",
      "Requirement already satisfied: MarkupSafe>=0.23 in /opt/anaconda3/lib/python3.8/site-packages (from jinja2>=2.10.1->pydeck) (1.1.1)\n",
      "Requirement already satisfied: tornado>=4.2 in /opt/anaconda3/lib/python3.8/site-packages (from ipykernel>=5.1.2; python_version >= \"3.4\"->pydeck) (6.0.4)\n",
      "Requirement already satisfied: jupyter-client in /opt/anaconda3/lib/python3.8/site-packages (from ipykernel>=5.1.2; python_version >= \"3.4\"->pydeck) (6.1.7)\n",
      "Requirement already satisfied: ipython>=5.0.0 in /opt/anaconda3/lib/python3.8/site-packages (from ipykernel>=5.1.2; python_version >= \"3.4\"->pydeck) (7.19.0)\n",
      "Requirement already satisfied: appnope; platform_system == \"Darwin\" in /opt/anaconda3/lib/python3.8/site-packages (from ipykernel>=5.1.2; python_version >= \"3.4\"->pydeck) (0.1.0)\n",
      "Requirement already satisfied: widgetsnbextension~=3.5.0 in /opt/anaconda3/lib/python3.8/site-packages (from ipywidgets>=7.0.0->pydeck) (3.5.1)\n",
      "Requirement already satisfied: nbformat>=4.2.0 in /opt/anaconda3/lib/python3.8/site-packages (from ipywidgets>=7.0.0->pydeck) (5.0.8)\n",
      "Requirement already satisfied: pyzmq>=13 in /opt/anaconda3/lib/python3.8/site-packages (from jupyter-client->ipykernel>=5.1.2; python_version >= \"3.4\"->pydeck) (19.0.2)\n",
      "Requirement already satisfied: jupyter-core>=4.6.0 in /opt/anaconda3/lib/python3.8/site-packages (from jupyter-client->ipykernel>=5.1.2; python_version >= \"3.4\"->pydeck) (4.6.3)\n",
      "Requirement already satisfied: python-dateutil>=2.1 in /opt/anaconda3/lib/python3.8/site-packages (from jupyter-client->ipykernel>=5.1.2; python_version >= \"3.4\"->pydeck) (2.8.1)\n",
      "Requirement already satisfied: setuptools>=18.5 in /opt/anaconda3/lib/python3.8/site-packages (from ipython>=5.0.0->ipykernel>=5.1.2; python_version >= \"3.4\"->pydeck) (50.3.1.post20201107)\n",
      "Requirement already satisfied: pickleshare in /opt/anaconda3/lib/python3.8/site-packages (from ipython>=5.0.0->ipykernel>=5.1.2; python_version >= \"3.4\"->pydeck) (0.7.5)\n",
      "Requirement already satisfied: prompt-toolkit!=3.0.0,!=3.0.1,<3.1.0,>=2.0.0 in /opt/anaconda3/lib/python3.8/site-packages (from ipython>=5.0.0->ipykernel>=5.1.2; python_version >= \"3.4\"->pydeck) (3.0.8)\n",
      "Requirement already satisfied: pygments in /opt/anaconda3/lib/python3.8/site-packages (from ipython>=5.0.0->ipykernel>=5.1.2; python_version >= \"3.4\"->pydeck) (2.7.2)\n",
      "Requirement already satisfied: jedi>=0.10 in /opt/anaconda3/lib/python3.8/site-packages (from ipython>=5.0.0->ipykernel>=5.1.2; python_version >= \"3.4\"->pydeck) (0.17.1)\n",
      "Requirement already satisfied: decorator in /opt/anaconda3/lib/python3.8/site-packages (from ipython>=5.0.0->ipykernel>=5.1.2; python_version >= \"3.4\"->pydeck) (4.4.2)\n",
      "Requirement already satisfied: pexpect>4.3; sys_platform != \"win32\" in /opt/anaconda3/lib/python3.8/site-packages (from ipython>=5.0.0->ipykernel>=5.1.2; python_version >= \"3.4\"->pydeck) (4.8.0)\n",
      "Requirement already satisfied: backcall in /opt/anaconda3/lib/python3.8/site-packages (from ipython>=5.0.0->ipykernel>=5.1.2; python_version >= \"3.4\"->pydeck) (0.2.0)\n",
      "Requirement already satisfied: notebook>=4.4.1 in /opt/anaconda3/lib/python3.8/site-packages (from widgetsnbextension~=3.5.0->ipywidgets>=7.0.0->pydeck) (6.1.4)\n",
      "Requirement already satisfied: jsonschema!=2.5.0,>=2.4 in /opt/anaconda3/lib/python3.8/site-packages (from nbformat>=4.2.0->ipywidgets>=7.0.0->pydeck) (3.2.0)\n",
      "Requirement already satisfied: six>=1.5 in /opt/anaconda3/lib/python3.8/site-packages (from python-dateutil>=2.1->jupyter-client->ipykernel>=5.1.2; python_version >= \"3.4\"->pydeck) (1.15.0)\n",
      "Requirement already satisfied: wcwidth in /opt/anaconda3/lib/python3.8/site-packages (from prompt-toolkit!=3.0.0,!=3.0.1,<3.1.0,>=2.0.0->ipython>=5.0.0->ipykernel>=5.1.2; python_version >= \"3.4\"->pydeck) (0.2.5)\n",
      "Requirement already satisfied: parso<0.8.0,>=0.7.0 in /opt/anaconda3/lib/python3.8/site-packages (from jedi>=0.10->ipython>=5.0.0->ipykernel>=5.1.2; python_version >= \"3.4\"->pydeck) (0.7.0)\n",
      "Requirement already satisfied: ptyprocess>=0.5 in /opt/anaconda3/lib/python3.8/site-packages (from pexpect>4.3; sys_platform != \"win32\"->ipython>=5.0.0->ipykernel>=5.1.2; python_version >= \"3.4\"->pydeck) (0.6.0)\n",
      "Requirement already satisfied: terminado>=0.8.3 in /opt/anaconda3/lib/python3.8/site-packages (from notebook>=4.4.1->widgetsnbextension~=3.5.0->ipywidgets>=7.0.0->pydeck) (0.9.1)\n",
      "Requirement already satisfied: argon2-cffi in /opt/anaconda3/lib/python3.8/site-packages (from notebook>=4.4.1->widgetsnbextension~=3.5.0->ipywidgets>=7.0.0->pydeck) (20.1.0)\n",
      "Requirement already satisfied: Send2Trash in /opt/anaconda3/lib/python3.8/site-packages (from notebook>=4.4.1->widgetsnbextension~=3.5.0->ipywidgets>=7.0.0->pydeck) (1.5.0)\n",
      "Requirement already satisfied: prometheus-client in /opt/anaconda3/lib/python3.8/site-packages (from notebook>=4.4.1->widgetsnbextension~=3.5.0->ipywidgets>=7.0.0->pydeck) (0.8.0)\n",
      "Requirement already satisfied: nbconvert in /opt/anaconda3/lib/python3.8/site-packages (from notebook>=4.4.1->widgetsnbextension~=3.5.0->ipywidgets>=7.0.0->pydeck) (6.0.7)\n",
      "Requirement already satisfied: pyrsistent>=0.14.0 in /opt/anaconda3/lib/python3.8/site-packages (from jsonschema!=2.5.0,>=2.4->nbformat>=4.2.0->ipywidgets>=7.0.0->pydeck) (0.17.3)\n",
      "Requirement already satisfied: attrs>=17.4.0 in /opt/anaconda3/lib/python3.8/site-packages (from jsonschema!=2.5.0,>=2.4->nbformat>=4.2.0->ipywidgets>=7.0.0->pydeck) (20.3.0)\n",
      "Requirement already satisfied: cffi>=1.0.0 in /opt/anaconda3/lib/python3.8/site-packages (from argon2-cffi->notebook>=4.4.1->widgetsnbextension~=3.5.0->ipywidgets>=7.0.0->pydeck) (1.14.3)\n",
      "Requirement already satisfied: entrypoints>=0.2.2 in /opt/anaconda3/lib/python3.8/site-packages (from nbconvert->notebook>=4.4.1->widgetsnbextension~=3.5.0->ipywidgets>=7.0.0->pydeck) (0.3)\n",
      "Requirement already satisfied: nbclient<0.6.0,>=0.5.0 in /opt/anaconda3/lib/python3.8/site-packages (from nbconvert->notebook>=4.4.1->widgetsnbextension~=3.5.0->ipywidgets>=7.0.0->pydeck) (0.5.1)\n",
      "Requirement already satisfied: pandocfilters>=1.4.1 in /opt/anaconda3/lib/python3.8/site-packages (from nbconvert->notebook>=4.4.1->widgetsnbextension~=3.5.0->ipywidgets>=7.0.0->pydeck) (1.4.3)\n",
      "Requirement already satisfied: defusedxml in /opt/anaconda3/lib/python3.8/site-packages (from nbconvert->notebook>=4.4.1->widgetsnbextension~=3.5.0->ipywidgets>=7.0.0->pydeck) (0.6.0)\n",
      "Requirement already satisfied: jupyterlab-pygments in /opt/anaconda3/lib/python3.8/site-packages (from nbconvert->notebook>=4.4.1->widgetsnbextension~=3.5.0->ipywidgets>=7.0.0->pydeck) (0.1.2)\n",
      "Requirement already satisfied: testpath in /opt/anaconda3/lib/python3.8/site-packages (from nbconvert->notebook>=4.4.1->widgetsnbextension~=3.5.0->ipywidgets>=7.0.0->pydeck) (0.4.4)\n",
      "Requirement already satisfied: bleach in /opt/anaconda3/lib/python3.8/site-packages (from nbconvert->notebook>=4.4.1->widgetsnbextension~=3.5.0->ipywidgets>=7.0.0->pydeck) (3.2.1)\n",
      "Requirement already satisfied: mistune<2,>=0.8.1 in /opt/anaconda3/lib/python3.8/site-packages (from nbconvert->notebook>=4.4.1->widgetsnbextension~=3.5.0->ipywidgets>=7.0.0->pydeck) (0.8.4)\n",
      "Requirement already satisfied: pycparser in /opt/anaconda3/lib/python3.8/site-packages (from cffi>=1.0.0->argon2-cffi->notebook>=4.4.1->widgetsnbextension~=3.5.0->ipywidgets>=7.0.0->pydeck) (2.20)\n",
      "Requirement already satisfied: async-generator in /opt/anaconda3/lib/python3.8/site-packages (from nbclient<0.6.0,>=0.5.0->nbconvert->notebook>=4.4.1->widgetsnbextension~=3.5.0->ipywidgets>=7.0.0->pydeck) (1.10)\n",
      "Requirement already satisfied: nest-asyncio in /opt/anaconda3/lib/python3.8/site-packages (from nbclient<0.6.0,>=0.5.0->nbconvert->notebook>=4.4.1->widgetsnbextension~=3.5.0->ipywidgets>=7.0.0->pydeck) (1.4.2)\n",
      "Requirement already satisfied: packaging in /opt/anaconda3/lib/python3.8/site-packages (from bleach->nbconvert->notebook>=4.4.1->widgetsnbextension~=3.5.0->ipywidgets>=7.0.0->pydeck) (20.4)\n",
      "Requirement already satisfied: webencodings in /opt/anaconda3/lib/python3.8/site-packages (from bleach->nbconvert->notebook>=4.4.1->widgetsnbextension~=3.5.0->ipywidgets>=7.0.0->pydeck) (0.5.1)\n",
      "Requirement already satisfied: pyparsing>=2.0.2 in /opt/anaconda3/lib/python3.8/site-packages (from packaging->bleach->nbconvert->notebook>=4.4.1->widgetsnbextension~=3.5.0->ipywidgets>=7.0.0->pydeck) (2.4.7)\n"
     ]
    },
    {
     "name": "stdout",
     "output_type": "stream",
     "text": [
      "Installing collected packages: pydeck\n",
      "Successfully installed pydeck-0.7.1\n"
     ]
    }
   ],
   "source": [
    "#!pip install pydeck"
   ]
  },
  {
   "cell_type": "markdown",
   "metadata": {},
   "source": [
    "### Imports"
   ]
  },
  {
   "cell_type": "code",
   "execution_count": 15,
   "metadata": {},
   "outputs": [],
   "source": [
    "import pandas as pd\n",
    "import geopandas as gpd\n",
    "import pydeck as pdk\n",
    "import urllib, json, requests\n",
    "import numpy as np\n",
    "import math"
   ]
  },
  {
   "cell_type": "code",
   "execution_count": 5,
   "metadata": {},
   "outputs": [],
   "source": [
    "# Opening JSON file\n",
    "f = open('gz_2010_us_050_00_500k.json', encoding = \"ISO-8859-1\")\n",
    " \n",
    "# returns JSON object as a dictionary\n",
    "dataGeo = json.load(f)\n",
    "\n",
    "# Closing file\n",
    "f.close()"
   ]
  },
  {
   "cell_type": "markdown",
   "metadata": {},
   "source": [
    "# Mapping the prevalences and the health score to the geojson based on FIPS"
   ]
  },
  {
   "cell_type": "code",
   "execution_count": 7,
   "metadata": {},
   "outputs": [],
   "source": [
    "counties = pd.read_csv(\"uscounties.csv\")"
   ]
  },
  {
   "cell_type": "code",
   "execution_count": 9,
   "metadata": {},
   "outputs": [],
   "source": [
    "for i in range(len(dataGeo['features'])):\n",
    "    fips = dataGeo['features'][i]['properties']['GEO_ID'][-5:].lstrip(\"0\")\n",
    "    dataGeo['features'][i]['properties'][\"FIPS\"] = fips"
   ]
  },
  {
   "cell_type": "markdown",
   "metadata": {},
   "source": [
    "### Loading and manipulating each dataset to include FIPS of each county"
   ]
  },
  {
   "cell_type": "code",
   "execution_count": 10,
   "metadata": {},
   "outputs": [],
   "source": [
    "ff = pd.read_csv(\"Fast_Food_Restaurants_US.csv\")"
   ]
  },
  {
   "cell_type": "code",
   "execution_count": 11,
   "metadata": {},
   "outputs": [],
   "source": [
    "diabetes = pd.read_excel(\"IHME_county_data_Diabetes_NATIONAL.xlsx\", sheet_name=\"Total\", header=1)"
   ]
  },
  {
   "cell_type": "code",
   "execution_count": 12,
   "metadata": {},
   "outputs": [],
   "source": [
    "obesity = pd.read_excel(\"IHME_county_data_LifeExpectancy_Obesity_PhysicalActivity_NATIONAL.xlsx\", sheet_name=\"Obesity\")"
   ]
  },
  {
   "cell_type": "code",
   "execution_count": 13,
   "metadata": {},
   "outputs": [],
   "source": [
    "le = pd.read_excel(\"IHME_county_data_LifeExpectancy_Obesity_PhysicalActivity_NATIONAL.xlsx\", sheet_name=\"Life Expectancy\")"
   ]
  },
  {
   "cell_type": "code",
   "execution_count": 14,
   "metadata": {},
   "outputs": [
    {
     "name": "stderr",
     "output_type": "stream",
     "text": [
      "<ipython-input-14-e2064b512d77>:8: SettingWithCopyWarning: \n",
      "A value is trying to be set on a copy of a slice from a DataFrame\n",
      "\n",
      "See the caveats in the documentation: https://pandas.pydata.org/pandas-docs/stable/user_guide/indexing.html#returning-a-view-versus-a-copy\n",
      "  ff[\"FIPS\"][i] = json.loads(json.dumps(data, indent=4, sort_keys=True))[\"results\"][0]['county_fips']\n"
     ]
    }
   ],
   "source": [
    "ff[\"FIPS\"] = 0\n",
    "for i in range(len(ff)):\n",
    "    lat = ff.latitude[i]\n",
    "    long = ff.longitude[i]\n",
    "    with urllib.request.urlopen(\"https://geo.fcc.gov/api/census/area?lat=\" + str(lat) + \"&lon=\" + str(long) + \"&format=json\") as url:\n",
    "        data = json.loads(url.read().decode())\n",
    "    ff[\"FIPS\"][i] = json.loads(json.dumps(data, indent=4, sort_keys=True))[\"results\"][0]['county_fips']"
   ]
  },
  {
   "cell_type": "markdown",
   "metadata": {},
   "source": [
    "### Clean and merge each health issue dataset with fast food data and county data"
   ]
  },
  {
   "cell_type": "code",
   "execution_count": 16,
   "metadata": {},
   "outputs": [],
   "source": [
    "ff = ff.drop(\"Unnamed: 0\", axis=1)"
   ]
  },
  {
   "cell_type": "code",
   "execution_count": 17,
   "metadata": {},
   "outputs": [],
   "source": [
    "diabetes = diabetes[diabetes.FIPS > 60].reset_index(drop=True)"
   ]
  },
  {
   "cell_type": "code",
   "execution_count": 18,
   "metadata": {},
   "outputs": [],
   "source": [
    "diabetes[\"DiabetesPrevalence\"] = (diabetes[\"Prevalence, 2012, Females\"] + diabetes[\"Prevalence, 2012, Males\"])/2"
   ]
  },
  {
   "cell_type": "code",
   "execution_count": 19,
   "metadata": {},
   "outputs": [],
   "source": [
    "diabetes = diabetes[[\"Location\", \"FIPS\", \"DiabetesPrevalence\"]]"
   ]
  },
  {
   "cell_type": "code",
   "execution_count": 20,
   "metadata": {},
   "outputs": [],
   "source": [
    "diabetesFF = ff.merge(diabetes, left_on=\"FIPS\", right_on=\"FIPS\")"
   ]
  },
  {
   "cell_type": "code",
   "execution_count": 21,
   "metadata": {},
   "outputs": [],
   "source": [
    "diabetesFFC = diabetesFF.merge(counties, left_on='FIPS', right_on='county_fips')"
   ]
  },
  {
   "cell_type": "code",
   "execution_count": 22,
   "metadata": {},
   "outputs": [],
   "source": [
    "temp2 = diabetesFFC.groupby(\"county_fips\").agg({'latitude': 'mean', 'longitude': 'mean', 'name':'count', 'DiabetesPrevalence':'mean', 'population':'mean'})\n",
    "temp2[\"PopPerFF\"] = temp2.population / temp2.name"
   ]
  },
  {
   "cell_type": "code",
   "execution_count": 23,
   "metadata": {},
   "outputs": [],
   "source": [
    "temp2 = temp2.reset_index()\n",
    "temp2.DiabetesPrevalence = round(temp2.DiabetesPrevalence,2)\n",
    "diabetesVis2 = temp2[[\"county_fips\", \"DiabetesPrevalence\", \"PopPerFF\"]]"
   ]
  },
  {
   "cell_type": "code",
   "execution_count": 24,
   "metadata": {},
   "outputs": [],
   "source": [
    "obesity[\"ObesityPrevalence\"] = (obesity[\"Male obesity  prevalence, 2011* (%)\"] + obesity[\"Female obesity prevalence, 2011* (%)\"])/2"
   ]
  },
  {
   "cell_type": "code",
   "execution_count": 25,
   "metadata": {},
   "outputs": [],
   "source": [
    "obesity = obesity[[\"State\", \"County\", \"ObesityPrevalence\"]][~obesity.County.isna()].reset_index(drop=True)"
   ]
  },
  {
   "cell_type": "code",
   "execution_count": 26,
   "metadata": {},
   "outputs": [],
   "source": [
    "obesity[\"CoSt\"] = obesity[\"County\"] + \", \" + obesity[\"State\"]\n",
    "counties[\"CoSt\"] = counties[\"county\"] + \", \" + counties[\"state_name\"]"
   ]
  },
  {
   "cell_type": "code",
   "execution_count": 27,
   "metadata": {},
   "outputs": [],
   "source": [
    "obesity = obesity.merge(counties, left_on=\"CoSt\", right_on=\"CoSt\")"
   ]
  },
  {
   "cell_type": "code",
   "execution_count": 28,
   "metadata": {},
   "outputs": [],
   "source": [
    "obesityFF = ff.merge(obesity, left_on=\"FIPS\", right_on=\"county_fips\")"
   ]
  },
  {
   "cell_type": "code",
   "execution_count": 29,
   "metadata": {},
   "outputs": [],
   "source": [
    "temp = obesityFF.groupby(\"county_fips\").agg({'latitude': 'mean', 'longitude': 'mean', 'name':'count', 'ObesityPrevalence':'mean', 'population':'mean'})"
   ]
  },
  {
   "cell_type": "code",
   "execution_count": 30,
   "metadata": {},
   "outputs": [],
   "source": [
    "temp[\"PopPerFF\"] = temp.population / temp.name\n",
    "temp = temp.reset_index()\n",
    "temp.ObesityPrevalence = round(temp.ObesityPrevalence,2)\n",
    "obesityVis2 = temp[[\"county_fips\", \"ObesityPrevalence\", \"PopPerFF\"]]"
   ]
  },
  {
   "cell_type": "code",
   "execution_count": 31,
   "metadata": {},
   "outputs": [],
   "source": [
    "le[\"LifeExpectancy\"] = (le[\"Male life expectancy, 2010 (years)\"] + le[\"Female life expectancy, 2010 (years)\"])/2"
   ]
  },
  {
   "cell_type": "code",
   "execution_count": 32,
   "metadata": {},
   "outputs": [],
   "source": [
    "le = le[[\"State\", \"County\", \"LifeExpectancy\"]][~le.County.isna()].reset_index(drop=True)"
   ]
  },
  {
   "cell_type": "code",
   "execution_count": 33,
   "metadata": {},
   "outputs": [],
   "source": [
    "le[\"CoSt\"] = le[\"County\"] + \", \" + le[\"State\"]\n",
    "le = le.merge(counties, left_on=\"CoSt\", right_on=\"CoSt\")"
   ]
  },
  {
   "cell_type": "code",
   "execution_count": 34,
   "metadata": {},
   "outputs": [],
   "source": [
    "leFF = ff.merge(le, left_on=\"FIPS\", right_on=\"county_fips\")"
   ]
  },
  {
   "cell_type": "code",
   "execution_count": 35,
   "metadata": {},
   "outputs": [],
   "source": [
    "temp3 = leFF.groupby(\"county_fips\").agg({'latitude': 'mean', 'longitude': 'mean', 'name':'count', 'LifeExpectancy':'mean', 'population':'mean'})\n"
   ]
  },
  {
   "cell_type": "code",
   "execution_count": 36,
   "metadata": {},
   "outputs": [],
   "source": [
    "temp3[\"PopPerFF\"] = temp3.population / temp3.name\n",
    "temp3 = temp3.reset_index()\n",
    "temp3.LifeExpectancy = round(temp3.LifeExpectancy,2)\n",
    "temp3.PopPerFF = temp3.PopPerFF.astype(int)\n",
    "leVis2 = temp3[[\"county_fips\", \"LifeExpectancy\", \"PopPerFF\"]]"
   ]
  },
  {
   "cell_type": "markdown",
   "metadata": {},
   "source": [
    "### Now place data into geojson to call in deck.gl"
   ]
  },
  {
   "cell_type": "code",
   "execution_count": 37,
   "metadata": {},
   "outputs": [],
   "source": [
    "for i in range(0,len(dataGeo['features'])):\n",
    "    geoFIPS = dataGeo['features'][i]['properties']['FIPS']\n",
    "    if(len(diabetesVis2.DiabetesPrevalence[diabetesVis2.county_fips == int(geoFIPS)])>0):\n",
    "        dataGeo['features'][i]['properties']['DiabetesPrevalence'] = diabetesVis2.DiabetesPrevalence[diabetesVis2.county_fips == int(geoFIPS)].item()\n",
    "    else:\n",
    "        dataGeo['features'][i]['properties']['DiabetesPrevalence'] = np.nan\n",
    "    if(len(obesityVis2.ObesityPrevalence[obesityVis2.county_fips == int(geoFIPS)])>0):\n",
    "        dataGeo['features'][i]['properties']['ObesityPrevalence'] = obesityVis2.ObesityPrevalence[obesityVis2.county_fips == int(geoFIPS)].item()\n",
    "    else:\n",
    "        dataGeo['features'][i]['properties']['ObesityPrevalence'] = np.nan\n",
    "    if(len(leVis2.LifeExpectancy[leVis2.county_fips == int(geoFIPS)])>0):\n",
    "        dataGeo['features'][i]['properties']['LifeExpectancy'] = leVis2.LifeExpectancy[leVis2.county_fips == int(geoFIPS)].item()\n",
    "        dataGeo['features'][i]['properties']['PopulationPerFastFoodRestaurant'] = leVis2.PopPerFF[leVis2.county_fips == int(geoFIPS)].item()\n",
    "    else:\n",
    "        dataGeo['features'][i]['properties']['LifeExpectancy'] = np.nan\n",
    "        dataGeo['features'][i]['properties']['PopulationPerFastFoodRestaurant'] = np.nan\n",
    "    "
   ]
  },
  {
   "cell_type": "markdown",
   "metadata": {},
   "source": [
    "## Create all 3 Deck.GL visualizations for Visualization #2"
   ]
  },
  {
   "cell_type": "markdown",
   "metadata": {},
   "source": [
    "### Drop NA values"
   ]
  },
  {
   "cell_type": "code",
   "execution_count": 57,
   "metadata": {},
   "outputs": [],
   "source": [
    "with open('testing.json', 'w') as f:\n",
    "    json.dump(dataGeo, f)"
   ]
  },
  {
   "cell_type": "code",
   "execution_count": 58,
   "metadata": {},
   "outputs": [],
   "source": [
    "t = gpd.read_file(\"testing.json\")"
   ]
  },
  {
   "cell_type": "code",
   "execution_count": 59,
   "metadata": {},
   "outputs": [],
   "source": [
    "outT = t[~t.LifeExpectancy.isna()].reset_index(drop=True)"
   ]
  },
  {
   "cell_type": "markdown",
   "metadata": {},
   "source": [
    "### Get data ranges to manually choose color"
   ]
  },
  {
   "cell_type": "code",
   "execution_count": 298,
   "metadata": {},
   "outputs": [
    {
     "data": {
      "text/plain": [
       "17.171717171717177"
      ]
     },
     "execution_count": 298,
     "metadata": {},
     "output_type": "execute_result"
    }
   ],
   "source": [
    "255/(leVis2.LifeExpectancy.max() - leVis2.LifeExpectancy.min())"
   ]
  },
  {
   "cell_type": "code",
   "execution_count": 300,
   "metadata": {},
   "outputs": [
    {
     "data": {
      "text/plain": [
       "68.4"
      ]
     },
     "execution_count": 300,
     "metadata": {},
     "output_type": "execute_result"
    }
   ],
   "source": [
    "leVis2.LifeExpectancy.min()"
   ]
  },
  {
   "cell_type": "markdown",
   "metadata": {},
   "source": [
    "### Create Deck.GL Visualization"
   ]
  },
  {
   "cell_type": "code",
   "execution_count": 69,
   "metadata": {},
   "outputs": [],
   "source": [
    "DATA_URL = \"https://raw.githubusercontent.com/visgl/deck.gl-data/master/examples/geojson/vancouver-blocks.json\"\n",
    "\n",
    "INITIAL_VIEW_STATE = pdk.ViewState(\n",
    "  latitude=40,\n",
    "  longitude=-98,\n",
    "  zoom=3,\n",
    "  max_zoom=16,\n",
    "  pitch=45,\n",
    "  bearing=0\n",
    ")\n",
    "\n",
    "polygon = pdk.Layer(\n",
    "    'PolygonLayer',\n",
    "    stroked=False,\n",
    "    # processes the data as a flat longitude-latitude pair\n",
    "    get_polygon='-',\n",
    "    get_fill_color=[0, 0, 0, 20]\n",
    ")\n",
    "\n",
    "geojson = pdk.Layer(\n",
    "    'GeoJsonLayer',\n",
    "    outT,\n",
    "    opacity=0.8,\n",
    "    stroked=False,\n",
    "    filled=True,\n",
    "    extruded=True,\n",
    "    wireframe=False,\n",
    "    get_elevation='PopulationPerFastFoodRestaurant*5',\n",
    "    get_fill_color='[255-((LifeExpectancy-68.4)*17.17), (LifeExpectancy-68.4)*17.17, 0]',\n",
    "    get_line_color=[255, 255, 255],\n",
    "    pickable=True\n",
    ")\n",
    "\n",
    "\n",
    "\n",
    "r = pdk.Deck(\n",
    "    layers=[polygon, geojson],\n",
    "    initial_view_state=INITIAL_VIEW_STATE,\n",
    "    tooltip={\n",
    "        'html': '<b> {NAME} {LSAD}  </b><br><b>Population per Fast Food Restaurant:</b> {PopulationPerFastFoodRestaurant} <br> <b>Life Expectancy:</b> {LifeExpectancy}',\n",
    "        'style': {\n",
    "            'color': 'white'\n",
    "        }\n",
    "    })\n",
    "\n",
    "r.to_html(\"deckGLLEVis2.html\")"
   ]
  },
  {
   "cell_type": "markdown",
   "metadata": {},
   "source": [
    "### Drop NA values"
   ]
  },
  {
   "cell_type": "code",
   "execution_count": 46,
   "metadata": {},
   "outputs": [],
   "source": [
    "outT2 = t[~t.ObesityPrevalence.isna()].reset_index(drop=True)"
   ]
  },
  {
   "cell_type": "markdown",
   "metadata": {},
   "source": [
    "### Get data ranges to manually choose color"
   ]
  },
  {
   "cell_type": "code",
   "execution_count": 295,
   "metadata": {},
   "outputs": [
    {
     "data": {
      "text/plain": [
       "8.225806451612904"
      ]
     },
     "execution_count": 295,
     "metadata": {},
     "output_type": "execute_result"
    }
   ],
   "source": [
    "255/(obesityVis2.ObesityPrevalence.max() - obesityVis2.ObesityPrevalence.min())"
   ]
  },
  {
   "cell_type": "code",
   "execution_count": 296,
   "metadata": {},
   "outputs": [
    {
     "data": {
      "text/plain": [
       "19.6"
      ]
     },
     "execution_count": 296,
     "metadata": {},
     "output_type": "execute_result"
    }
   ],
   "source": [
    "obesityVis2.ObesityPrevalence.min()"
   ]
  },
  {
   "cell_type": "markdown",
   "metadata": {},
   "source": [
    "### Create Deck.GL Visualization"
   ]
  },
  {
   "cell_type": "code",
   "execution_count": 70,
   "metadata": {},
   "outputs": [],
   "source": [
    "DATA_URL = \"https://raw.githubusercontent.com/visgl/deck.gl-data/master/examples/geojson/vancouver-blocks.json\"\n",
    "\n",
    "INITIAL_VIEW_STATE = pdk.ViewState(\n",
    "  latitude=40,\n",
    "  longitude=-98,\n",
    "  zoom=3,\n",
    "  max_zoom=16,\n",
    "  pitch=45,\n",
    "  bearing=0\n",
    ")\n",
    "\n",
    "polygon = pdk.Layer(\n",
    "    'PolygonLayer',\n",
    "    stroked=False,\n",
    "    # processes the data as a flat longitude-latitude pair\n",
    "    get_polygon='-',\n",
    "    get_fill_color=[0, 0, 0, 20]\n",
    ")\n",
    "\n",
    "geojson = pdk.Layer(\n",
    "    'GeoJsonLayer',\n",
    "    outT2,\n",
    "    opacity=0.8,\n",
    "    stroked=False,\n",
    "    filled=True,\n",
    "    extruded=True,\n",
    "    wireframe=False,\n",
    "    get_elevation='PopulationPerFastFoodRestaurant*5',\n",
    "    get_fill_color='[(ObesityPrevalence-19.6)*8.2, 255-((ObesityPrevalence-19.6)*8.2), 0]',\n",
    "    get_line_color=[255, 255, 255],\n",
    "    pickable=True\n",
    ")\n",
    "\n",
    "r = pdk.Deck(\n",
    "    layers=[polygon, geojson],\n",
    "    initial_view_state=INITIAL_VIEW_STATE,\n",
    "    tooltip={\n",
    "        'html': '<b> {NAME} {LSAD}  </b><br><b>Population per Fast Food Restaurant:</b> {PopulationPerFastFoodRestaurant} <br> <b>Obesity Prevalence:</b> {ObesityPrevalence}%',\n",
    "        'style': {\n",
    "            'color': 'white'\n",
    "        }\n",
    "    })\n",
    "\n",
    "r.to_html(\"deckGLObesVis2.html\")"
   ]
  },
  {
   "cell_type": "markdown",
   "metadata": {},
   "source": [
    "### Drop NA values"
   ]
  },
  {
   "cell_type": "code",
   "execution_count": 48,
   "metadata": {},
   "outputs": [],
   "source": [
    "outT3 = t[~t.DiabetesPrevalence.isna()].reset_index(drop=True)"
   ]
  },
  {
   "cell_type": "markdown",
   "metadata": {},
   "source": [
    "### Get data ranges to manually choose color"
   ]
  },
  {
   "cell_type": "code",
   "execution_count": 38,
   "metadata": {},
   "outputs": [
    {
     "data": {
      "text/plain": [
       "16.547696301103176"
      ]
     },
     "execution_count": 38,
     "metadata": {},
     "output_type": "execute_result"
    }
   ],
   "source": [
    "255/(diabetesVis2.DiabetesPrevalence.max() - diabetesVis2.DiabetesPrevalence.min())"
   ]
  },
  {
   "cell_type": "code",
   "execution_count": 39,
   "metadata": {},
   "outputs": [
    {
     "data": {
      "text/plain": [
       "8.87"
      ]
     },
     "execution_count": 39,
     "metadata": {},
     "output_type": "execute_result"
    }
   ],
   "source": [
    "diabetesVis2.DiabetesPrevalence.min()"
   ]
  },
  {
   "cell_type": "markdown",
   "metadata": {},
   "source": [
    "### Create Deck.GL Visualization"
   ]
  },
  {
   "cell_type": "code",
   "execution_count": 71,
   "metadata": {},
   "outputs": [],
   "source": [
    "DATA_URL = \"https://raw.githubusercontent.com/visgl/deck.gl-data/master/examples/geojson/vancouver-blocks.json\"\n",
    "\n",
    "INITIAL_VIEW_STATE = pdk.ViewState(\n",
    "  latitude=40,\n",
    "  longitude=-98,\n",
    "  zoom=3,\n",
    "  max_zoom=16,\n",
    "  pitch=45,\n",
    "  bearing=0\n",
    ")\n",
    "\n",
    "polygon = pdk.Layer(\n",
    "    'PolygonLayer',\n",
    "    stroked=False,\n",
    "    # processes the data as a flat longitude-latitude pair\n",
    "    get_polygon='-',\n",
    "    get_fill_color=[0, 0, 0, 20]\n",
    ")\n",
    "\n",
    "geojson = pdk.Layer(\n",
    "    'GeoJsonLayer',\n",
    "    outT3,\n",
    "    opacity=0.8,\n",
    "    stroked=False,\n",
    "    filled=True,\n",
    "    extruded=True,\n",
    "    wireframe=False,\n",
    "    get_elevation='PopulationPerFastFoodRestaurant*5',\n",
    "    get_fill_color='[(DiabetesPrevalence-8.87)*16.5, 255-((DiabetesPrevalence-8.87)*16.5), 0]',\n",
    "    get_line_color=[255, 255, 255],\n",
    "    pickable=True\n",
    ")\n",
    "\n",
    "r = pdk.Deck(\n",
    "    layers=[polygon, geojson],\n",
    "    initial_view_state=INITIAL_VIEW_STATE,\n",
    "    tooltip={\n",
    "        'html': '<b> {NAME} {LSAD}  </b><br><b>Population per Fast Food Restaurant:</b> {PopulationPerFastFoodRestaurant} <br> <b>Diabetes Prevalence:</b> {DiabetesPrevalence}%',\n",
    "        'style': {\n",
    "            'color': 'white'\n",
    "        }\n",
    "    })\n",
    "\n",
    "r.to_html(\"deckGLDiabVis2.html\")"
   ]
  },
  {
   "cell_type": "markdown",
   "metadata": {},
   "source": [
    "# Vis 3"
   ]
  },
  {
   "cell_type": "markdown",
   "metadata": {},
   "source": [
    "### Load the health scores data (created in HealthScoreCreate.csv)"
   ]
  },
  {
   "cell_type": "code",
   "execution_count": 63,
   "metadata": {},
   "outputs": [],
   "source": [
    "healthScores = pd.read_csv(\"HealthScores.csv\").drop(\"Unnamed: 0\", axis=1)"
   ]
  },
  {
   "cell_type": "markdown",
   "metadata": {},
   "source": [
    "### Get the ranges to manually choose color"
   ]
  },
  {
   "cell_type": "code",
   "execution_count": 64,
   "metadata": {},
   "outputs": [
    {
     "data": {
      "text/plain": [
       "count    9750.000000\n",
       "mean        0.602702\n",
       "std         0.066648\n",
       "min         0.304854\n",
       "25%         0.554771\n",
       "50%         0.601553\n",
       "75%         0.649865\n",
       "max         0.948513\n",
       "Name: OverallHealthScore, dtype: float64"
      ]
     },
     "execution_count": 64,
     "metadata": {},
     "output_type": "execute_result"
    }
   ],
   "source": [
    "healthScores.OverallHealthScore.describe()"
   ]
  },
  {
   "cell_type": "code",
   "execution_count": 65,
   "metadata": {},
   "outputs": [
    {
     "data": {
      "text/plain": [
       "396.17250749232124"
      ]
     },
     "execution_count": 65,
     "metadata": {},
     "output_type": "execute_result"
    }
   ],
   "source": [
    "255/(0.948513-0.304854)"
   ]
  },
  {
   "cell_type": "markdown",
   "metadata": {},
   "source": [
    "### Final cleaning of the data"
   ]
  },
  {
   "cell_type": "code",
   "execution_count": 66,
   "metadata": {},
   "outputs": [],
   "source": [
    "healthScores['OverallHealthScore'] = round(healthScores.OverallHealthScore * 100,2)"
   ]
  },
  {
   "cell_type": "code",
   "execution_count": 67,
   "metadata": {},
   "outputs": [],
   "source": [
    "healthScores[\"PrevalenceDiab\"] = round(healthScores.PrevalenceDiab,2)\n",
    "healthScores[\"PrevalenceObes\"] = round(healthScores.PrevalenceObes,2)\n",
    "healthScores[\"LE\"] = round(healthScores.LE,2)"
   ]
  },
  {
   "cell_type": "markdown",
   "metadata": {},
   "source": [
    "### Create Deck.GL visualization"
   ]
  },
  {
   "cell_type": "code",
   "execution_count": 72,
   "metadata": {},
   "outputs": [],
   "source": [
    "# Define a layer to display on a map\n",
    "layer = pdk.Layer(\n",
    "    \"ScatterplotLayer\",\n",
    "    healthScores,\n",
    "    pickable=True,\n",
    "    opacity=0.8,\n",
    "    stroked=True,\n",
    "    filled=True,\n",
    "    radius_scale=6,\n",
    "    radius_min_pixels=4,\n",
    "    radius_max_pixels=4,\n",
    "    line_width_min_pixels=1,\n",
    "    get_position=['longitude','latitude'],#\"coordinates\",\n",
    "    get_radius=100,\n",
    "    #get_fill_color=[255, 140, 0],\n",
    "    get_fill_color=\"[255-((OverallHealthScore-30.4854)*3.9617), (OverallHealthScore-30.4854)*3.9617, 0]\",\n",
    "    get_line_color=[0, 0, 0, 0],\n",
    ")\n",
    "\n",
    "# Set the viewport location\n",
    "view_state = pdk.ViewState(latitude=40, longitude=-98, zoom=3, bearing=0, pitch=0)\n",
    "\n",
    "# Render\n",
    "r = pdk.Deck(layers=[layer], initial_view_state=view_state, tooltip={\n",
    "        'html': '<b> {name} </b><br><b>Address:</b> {address} <br><b>City:</b> {city} <br> <b>State:</b> {province} <br><b>Diabetes Prevalence:</b> {PrevalenceDiab}% <br><b>Obesity Prevalence:</b> {PrevalenceObes}% <br><b>Life Expectancy:</b> {LE} years<br><b>Health Score:</b> {OverallHealthScore}',\n",
    "        'style': {\n",
    "            'color': 'white'\n",
    "        }\n",
    "    })\n",
    "r.to_html(\"deckGLVis3.html\")"
   ]
  }
 ],
 "metadata": {
  "kernelspec": {
   "display_name": "Python 3",
   "language": "python",
   "name": "python3"
  },
  "language_info": {
   "codemirror_mode": {
    "name": "ipython",
    "version": 3
   },
   "file_extension": ".py",
   "mimetype": "text/x-python",
   "name": "python",
   "nbconvert_exporter": "python",
   "pygments_lexer": "ipython3",
   "version": "3.8.5"
  }
 },
 "nbformat": 4,
 "nbformat_minor": 4
}
